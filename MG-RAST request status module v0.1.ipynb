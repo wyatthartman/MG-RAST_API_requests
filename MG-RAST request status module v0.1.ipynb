{
 "cells": [
  {
   "cell_type": "markdown",
   "metadata": {},
   "source": [
    "# MG-RAST API spool / queue status request module\n",
    "This module requests creation of a KO profile of a sample from the MG-RAST API. http://api.metagenomics.anl.gov/api.html \n",
    "\n",
    "When such a profile does not yet exist, this module should submit a request to create it.  However, testing is recommended."
   ]
  },
  {
   "cell_type": "markdown",
   "metadata": {},
   "source": [
    "Caution: Testing on a limited number of samples is strongly recommended.  \n",
    "When requests are completed, this DEV version of the status requester relies on the entire request return, such that if the data exists in MG-RAST, this will take the same time as downloading the entire file. \n",
    "Prior to completion response is nearly instant, while after completion it make take > 1 min per sample requested."
   ]
  },
  {
   "cell_type": "code",
   "execution_count": 2,
   "metadata": {
    "collapsed": true
   },
   "outputs": [],
   "source": [
    "import requests  # to make the GET request \n",
    "import json  # to parse the JSON response to a Python dictionary\n",
    "import time  # to pause after each API call\n",
    "import csv  # to write our data to a CSV\n",
    "import pandas as pd # to see our CSV\n",
    "import numpy as np\n",
    "import itertools\n",
    "import re"
   ]
  },
  {
   "cell_type": "markdown",
   "metadata": {},
   "source": [
    "# Status request function"
   ]
  },
  {
   "cell_type": "code",
   "execution_count": 3,
   "metadata": {
    "collapsed": true
   },
   "outputs": [],
   "source": [
    "def API_KO_profile_submit_status(file):\n",
    "    import requests  # to make the GET request \n",
    "    import json  # to parse the JSON response to a Python dictionary\n",
    "    import csv  # to write our data to a CSV\n",
    "    import pandas as pd # to see our CSV\n",
    "    import numpy as np\n",
    "    import itertools\n",
    "    \n",
    "    ### Get url for API from variable\n",
    "    file = str(i)\n",
    "    reqMG = 'http://api.metagenomics.anl.gov/profile/' + file + '?source=KO&format=biom'\n",
    "\n",
    "    # API get KO data in JSON fmt, extract data\n",
    "    response = requests.get(reqMG)\n",
    "    response_text = response.text\n",
    "    data = json.loads(response_text)\n",
    "\n",
    "    # Get status\n",
    "    status = data['status']\n",
    "    progress = data['progress']\n",
    "    return(status, progress)"
   ]
  },
  {
   "cell_type": "code",
   "execution_count": 12,
   "metadata": {},
   "outputs": [
    {
     "data": {
      "text/plain": [
       "('done',\n",
       " {'found': 512801,\n",
       "  'queried': 2413175,\n",
       "  'started': '2017-08-12T19:42:13.497-05:00',\n",
       "  'updated': '2017-08-12T20:13:38.911-05:00'})"
      ]
     },
     "execution_count": 12,
     "metadata": {},
     "output_type": "execute_result"
    }
   ],
   "source": [
    "# Single sample test\n",
    "API_KO_profile_submit_status(\"mgm4755144.3\")\n",
    "\n",
    "# can also pass list to function"
   ]
  },
  {
   "cell_type": "code",
   "execution_count": 14,
   "metadata": {},
   "outputs": [],
   "source": [
    "filelist = (\"mgm4755136.3\", \"mgm4755203.3\") #, \"mgm4755144.3\")\n",
    "\n",
    "for i in filelist:\n",
    "    API_KO_profile_submit_status(i)"
   ]
  },
  {
   "cell_type": "code",
   "execution_count": null,
   "metadata": {
    "collapsed": true
   },
   "outputs": [],
   "source": []
  }
 ],
 "metadata": {
  "anaconda-cloud": {},
  "kernelspec": {
   "display_name": "Python [cdips2017]",
   "language": "python",
   "name": "Python [cdips2017]"
  },
  "language_info": {
   "codemirror_mode": {
    "name": "ipython",
    "version": 3
   },
   "file_extension": ".py",
   "mimetype": "text/x-python",
   "name": "python",
   "nbconvert_exporter": "python",
   "pygments_lexer": "ipython3",
   "version": "3.6.1"
  }
 },
 "nbformat": 4,
 "nbformat_minor": 1
}
