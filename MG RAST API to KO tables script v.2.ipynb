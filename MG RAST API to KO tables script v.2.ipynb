{
 "cells": [
  {
   "cell_type": "markdown",
   "metadata": {},
   "source": [
    "# Get KO counts and md5 IDs from MG RAST's API \n"
   ]
  },
  {
   "cell_type": "markdown",
   "metadata": {},
   "source": [
    "###  Obtains KO gene abundance tables, KO-md5 counts for later DNA sequence queries / taxonomic assignments\n",
    "\n",
    "#### API calls and JSON parser produce tables for each sample, then tables merged using reduce\n",
    "This script produces a KO abundance table across a group of MG RAST metagenomes, after downloading and parsing individual table.  This works well IF asynchronous get request has returned this table to the server, which takes time -- a separate script requests annotations and returns status, but needs work. Function below could be easily modified if other annotations, cutoffs needed. Just edit text in reqMG below to yield needed parameters from MG RAST, for available features see http://api.metagenomics.anl.gov/api.html\n",
    "Note that MG RAST produces tables of KO counts per cluster, which need to be aggregated by KO (using groupby). API get KO function includes this step. API_get_KO_tables function returns a single KO table per sample, to avoid crashes. Then tables are merged using reduce. KO to md5 count maps are also provided for each sample in this version, and then coallated. "
   ]
  },
  {
   "cell_type": "markdown",
   "metadata": {},
   "source": [
    "### Revisions:\n",
    "1) Now accounts for multiple KOs per MD5, here double counting them.  Previous DB was misaligned due to unlisting of multiple KOs then merging by index with counts. \n",
    "\n",
    "2) Now outputs separate file to track MD5 IDs from MG RASTs RefSeq DB.  Makes file with KO, count, MD5, sample ID (mgm.).  These files will be used for later taxonomic assignment of reads, using the MD5 info. "
   ]
  },
  {
   "cell_type": "markdown",
   "metadata": {},
   "source": [
    "## Note on usage\n",
    "\n",
    "While the functions in this script can be used by anyone, I use my own sample lists, and remap sample from MG-RAST names using another file.\n",
    "\n",
    "Importantly, using this script on my data (130 samples) created an intermediate 4.5 GB files, so others are cautioned to consider smaller test runs."
   ]
  },
  {
   "cell_type": "markdown",
   "metadata": {},
   "source": [
    "## Function: API_get_KO tables\n",
    "Get KO count and KO - MD5 count tables  (to apply to a list of samples)"
   ]
  },
  {
   "cell_type": "code",
   "execution_count": 16,
   "metadata": {
    "collapsed": true
   },
   "outputs": [],
   "source": [
    "def API_get_KO_tables(file):\n",
    "    import requests  # to make the GET request \n",
    "    import json  # to parse the JSON response to a Python dictionary\n",
    "    import csv  # to write our data to a CSV\n",
    "    import pandas as pd # to see our CSV\n",
    "    import numpy as np\n",
    "    import itertools\n",
    "    import re\n",
    "    import string\n",
    "    \n",
    "    ###############################\n",
    "    ### api CALL \n",
    "    # Get url for API from variable                                                      # NO AUTH, for GIT -- \n",
    "    reqMG = 'http://api.metagenomics.anl.gov/profile/' + file + '?source=KO&format=biom' #&auth=''\n",
    "\n",
    "    # API get KO data in JSON fmt, extract data\n",
    "    response = requests.get(reqMG)\n",
    "    response_text = response.text\n",
    "    data = json.loads(response_text)\n",
    "    \n",
    "    # Get data from 3rd nested JSON layer\n",
    "    data['data']                                        # 1st layer\n",
    "    dat2=data['data']                                   # 2nd layer\n",
    "    dat3=dat2['data']                                   # 3rd layer\n",
    "\n",
    "    ###############################\n",
    "    ### Parse JSON\n",
    "    # get MD5s  - unique IDs\n",
    "    MD5list=[x[0] for x in dat3]                        # extract list\n",
    "    MD5 = pd.DataFrame(MD5list)                         # make DF\n",
    "    MD5.columns= ['MD5']                                # rename col                     \n",
    "    \n",
    "    # get counts\n",
    "    counts_List=[x[1] for x in dat3]                    # extract list\n",
    "    counts = pd.DataFrame(counts_List)                  # make DF \n",
    "    counts.columns = ['count']                          # rename col                    \n",
    "    #MGID=[file]                                        # get file name for col\n",
    "    #counts.columns = MGID                              # rename col                    \n",
    "    \n",
    "    ### get KO table, format given multiple KO IDs for some MD5s -- slicing later requires columns renamed as non-numeric \n",
    "    KOlist=[x[6] for x in dat3]                         # extract list of KOs\n",
    "    Ko = pd.DataFrame(KOlist)                           # Make list a DF, fixes needed below, but unlisting BAD\n",
    "    n = Ko.shape[1]                                     # Get KO shape\n",
    "    newcols = list(string.ascii_lowercase[0:n])         # Get letter list of dim n \n",
    "    Ko.columns = newcols                                # Rename columns by letters\n",
    "    KO = Ko.replace([None], ['no'], regex=True)         # Replace [None] generated by KO List -> DF\n",
    "    \n",
    "    ### Combine cleaned KO, Counts, MD5s (per cluster)\n",
    "    KO_countMD5=pd.concat([KO, counts, MD5], axis=1, join='inner')   # Join elements together by INDEX   # KO_Counts.head(5)\n",
    "\n",
    "    ################################\n",
    "    ### Collect and Coallate multiple KO hits per MD5 (unique Refseq gene, linked to taxon)\n",
    "    # Get 1st level KOs\n",
    "    L1 = ['a','count','MD5']                            # Get columns to keep\n",
    "    KO1 = KO_countMD5[L1]                               # Keep only columns a = KO first call\n",
    "    KO1.columns = ['KO','count','MD5']                  # Rename columns                  # KO1.head() #KO1.shape\n",
    "    \n",
    "    ## Append (A) counts from KO levels 2-n to KO level 1 \n",
    "    KOA = KO1                                           # make DF to append to, from KO1\n",
    "    col2= newcols[1:]                                   # make list of KO columns, excluding KO1\n",
    "    for i in col2:                                      # For loop, i in KO columns (-KO1): \n",
    "        names = [(i),'count','MD5']                     # Get columns to keep, incl. i (KO level), counts, MD5\n",
    "        ko_only = KO_countMD5[KO_countMD5[(i)] != 'no']    # Keep only rows of KO count tab where i != none (no)\n",
    "        ko_Lcut = ko_only[names]                        # Keep columns i, count, md5 -- this is new table    \n",
    "        ko_Lcut.columns = ['KO', 'count', 'MD5']        # rename col. i as 'KO'\n",
    "        KOA = KOA.append(ko_Lcut, ignore_index=True)    # Append new table to older table(s)\n",
    "                                                        # Check results, sequentially: # print(KOA.shape) # print(names) # print(koA)   \n",
    "                                                        # KOA.head()  # KOA.tail()  # KOA.shape\n",
    "    ####################################\n",
    "    # Aggregate KO Counts and export to file\n",
    "    koCounts = KOA.drop('MD5', axis=1)\n",
    "    koCounts.columns = ['KO', file]                     # koCounts.head()\n",
    "\n",
    "    # Sum over KOs  (counts were given for each read cluster)\n",
    "    KOcounts = koCounts.groupby(['KO']).sum()\n",
    "\n",
    "    # Print filename as string from file \n",
    "    filetr=str(file)\n",
    "    filestr=file[:-2]  # Won't tolerate \".3\" in filename, truncate and addback\n",
    "    filenam = '\\'' + str(filestr)+ '.3_KO.txt''\\''\n",
    "    filename = filenam[1:-1]   # strip double quot. by remove first, last char\n",
    "\n",
    "    # write csv (\\t) to filename, no row ind.\n",
    "    KOcounts.to_csv((str(filename)), sep=\"\\t\", index=True, quoting=csv.QUOTE_NONE)\n",
    "\n",
    "    ####################################\n",
    "    ### Export KO to MD5 mapping to file\n",
    "    KOmd5 = KOA                                          # Don't drop, keep counts for Taxonomy # .drop('count', axis=1) # get mapping, tested and is unique\n",
    "    KOmd5[\"MGID\"] = file\n",
    "\n",
    "    # Print filename as string from file \n",
    "    # filetr=str(file)\n",
    "    # filestr=file[:-2]                                  # Won't tolerate \".3\" in filename, truncate and addback\n",
    "    filenam = '\\'' + str(filestr)+ '.3_KOmd5.txt''\\''    # print filename string \n",
    "    filename = filenam[1:-1]                             # strip double quot. by remove first, last char\n",
    "\n",
    "    # write csv (\\t) to filename, no row ind.\n",
    "    KOmd5.to_csv((str(filename)), sep=\"\\t\", index=True, quoting=csv.QUOTE_NONE)\n",
    "    \n",
    "    print(file + \" KO tables completed\")"
   ]
  },
  {
   "cell_type": "markdown",
   "metadata": {},
   "source": [
    "### Example usage\n",
    "When samples \"get\" requests completed, about 35s per sample, else crash if non-completed are on list.  Note this could take longer under higher server load.  "
   ]
  },
  {
   "cell_type": "code",
   "execution_count": 2,
   "metadata": {},
   "outputs": [
    {
     "name": "stdout",
     "output_type": "stream",
     "text": [
      "mgm4755136.3 KO tables completed\n"
     ]
    }
   ],
   "source": [
    "# One sample:\n",
    "API_get_KO_tables(\"mgm4755136.3\")"
   ]
  },
  {
   "cell_type": "code",
   "execution_count": 25,
   "metadata": {},
   "outputs": [
    {
     "name": "stdout",
     "output_type": "stream",
     "text": [
      "mgm4755203.3 KO tables completed\n"
     ]
    }
   ],
   "source": [
    "API_get_KO_tables(\"mgm4755203.3\")"
   ]
  },
  {
   "cell_type": "code",
   "execution_count": 26,
   "metadata": {},
   "outputs": [
    {
     "name": "stdout",
     "output_type": "stream",
     "text": [
      "mgm4755136.3 KO tables completed\n",
      "mgm4755203.3 KO tables completed\n"
     ]
    }
   ],
   "source": [
    "# Multiple samples --note here first and most pmo rich\n",
    "filelist = (\"mgm4755136.3\", \"mgm4755203.3\") #, \"mgm4755144.3\")\n",
    "\n",
    "for i in filelist:\n",
    "    API_get_KO_tables(i)"
   ]
  },
  {
   "cell_type": "markdown",
   "metadata": {},
   "source": [
    "## Import MGIDs lists and sample mapping to get  API call queue lists"
   ]
  },
  {
   "cell_type": "code",
   "execution_count": 104,
   "metadata": {
    "collapsed": true
   },
   "outputs": [],
   "source": [
    "import pandas as pd\n",
    "import numpy as np\n",
    "\n",
    "# read list of file IDs, mgID and SPID (use later)\n",
    "samples = pd.read_csv(\"Salinity_MGrast_OID_mgmIDs133.txt\", sep ='\\t' )\n",
    "\n",
    "# also get list of SPID to sample names (for later)\n",
    "sampnamesSPID = pd.read_csv(\"Sample_name_to_SPID_mapping2.txt\", sep ='\\t' )\n",
    "sampnamesSPID.head()\n",
    "\n",
    "# Make list of MGRAST file IDs from column\n",
    "samplist = samples[\"mgID\"].tolist()\n",
    "\n",
    "# Break list into chunks of 4 before for loop,  -- 4 chunks used as ca. 10 samples ea.\n",
    "# else crash computer if too many parallel (does work though disasterous;) )\n",
    "\n",
    "# TODO, make for loop which appends to dict, then call items.\n",
    "metalist= np.array_split(np.array(samplist), 4)\n",
    "l_0=metalist[0].tolist()\n",
    "l_1=metalist[1].tolist()\n",
    "l_2=metalist[2].tolist()\n",
    "l_3=metalist[3].tolist()\n",
    "\n",
    "#sampnamesSPID.head()"
   ]
  },
  {
   "cell_type": "code",
   "execution_count": 106,
   "metadata": {
    "collapsed": true
   },
   "outputs": [],
   "source": [
    "# Check lists, length: # l_3  # len(l_0)"
   ]
  },
  {
   "cell_type": "markdown",
   "metadata": {},
   "source": [
    "## Run batched lists of API calls for KO tables \n",
    "Batches run separately so as to monitoring chunks for completion time.  Otherwise if run all together crash.  Estimate 900 seconds for each batch, see time.sleep command commented out below, and use at own risk in loop of list-batches if you feel bold."
   ]
  },
  {
   "cell_type": "code",
   "execution_count": 34,
   "metadata": {},
   "outputs": [
    {
     "name": "stdout",
     "output_type": "stream",
     "text": [
      "mgm4755136.3 KO tables completed\n",
      "mgm4755135.3 KO tables completed\n",
      "mgm4755144.3 KO tables completed\n",
      "mgm4755149.3 KO tables completed\n",
      "mgm4755150.3 KO tables completed\n",
      "mgm4755157.3 KO tables completed\n",
      "mgm4755145.3 KO tables completed\n",
      "mgm4755151.3 KO tables completed\n",
      "mgm4755154.3 KO tables completed\n",
      "mgm4755155.3 KO tables completed\n",
      "mgm4755146.3 KO tables completed\n",
      "mgm4755200.3 KO tables completed\n",
      "mgm4755189.3 KO tables completed\n",
      "mgm4755195.3 KO tables completed\n",
      "mgm4755205.3 KO tables completed\n",
      "mgm4755197.3 KO tables completed\n",
      "mgm4755209.3 KO tables completed\n",
      "mgm4755199.3 KO tables completed\n",
      "mgm4755210.3 KO tables completed\n",
      "mgm4755207.3 KO tables completed\n",
      "mgm4755188.3 KO tables completed\n",
      "mgm4755202.3 KO tables completed\n",
      "mgm4755215.3 KO tables completed\n",
      "mgm4755190.3 KO tables completed\n",
      "mgm4754590.3 KO tables completed\n",
      "mgm4754591.3 KO tables completed\n",
      "mgm4754600.3 KO tables completed\n",
      "mgm4754585.3 KO tables completed\n",
      "mgm4754597.3 KO tables completed\n",
      "mgm4754606.3 KO tables completed\n",
      "mgm4754598.3 KO tables completed\n",
      "mgm4754595.3 KO tables completed\n",
      "mgm4754589.3 KO tables completed\n",
      "mgm4754588.3 KO tables completed\n"
     ]
    }
   ],
   "source": [
    "## Here running each list separately...DON'T run them all at once (in parallel, CRASH computer\n",
    "\n",
    "# Could TODO, but more dangerous?: Make for loop of chunks with timed pause between sets.\n",
    "# import time       # to pause after each API call\n",
    "# time.sleep(900)   # Delay for 15 minutes (15x60 seconds).\n",
    "# Wall time for below is \n",
    "\n",
    "for i in l_0:\n",
    "    API_get_KO_tables(i)\n",
    "    \n",
    "# 11 sampples: started at 4:24 pm, finish 4:30 -- 6 min wall time\n",
    "# 34 samples: start 4:50, finish 5:12 -- 22 m wall time"
   ]
  },
  {
   "cell_type": "code",
   "execution_count": 37,
   "metadata": {},
   "outputs": [
    {
     "name": "stdout",
     "output_type": "stream",
     "text": [
      "mgm4754581.3 KO tables completed\n",
      "mgm4754594.3 KO tables completed\n",
      "mgm4754605.3 KO tables completed\n",
      "mgm4754583.3 KO tables completed\n",
      "mgm4754593.3 KO tables completed\n",
      "mgm4754586.3 KO tables completed\n",
      "mgm4754602.3 KO tables completed\n",
      "mgm4754603.3 KO tables completed\n",
      "mgm4754587.3 KO tables completed\n",
      "mgm4754580.3 KO tables completed\n",
      "mgm4754604.3 KO tables completed\n",
      "mgm4754592.3 KO tables completed\n",
      "mgm4754582.3 KO tables completed\n",
      "mgm4754601.3 KO tables completed\n",
      "mgm4754584.3 KO tables completed\n",
      "mgm4754579.3 KO tables completed\n",
      "mgm4754599.3 KO tables completed\n",
      "mgm4754596.3 KO tables completed\n",
      "mgm4755213.3 KO tables completed\n",
      "mgm4755198.3 KO tables completed\n",
      "mgm4755204.3 KO tables completed\n",
      "mgm4755186.3 KO tables completed\n",
      "mgm4755217.3 KO tables completed\n",
      "mgm4755211.3 KO tables completed\n",
      "mgm4755208.3 KO tables completed\n",
      "mgm4755181.3 KO tables completed\n",
      "mgm4755196.3 KO tables completed\n",
      "mgm4755206.3 KO tables completed\n",
      "mgm4755214.3 KO tables completed\n",
      "mgm4755180.3 KO tables completed\n",
      "mgm4755216.3 KO tables completed\n",
      "mgm4755182.3 KO tables completed\n",
      "mgm4755183.3 KO tables completed\n"
     ]
    }
   ],
   "source": [
    "for i in l_1:            \n",
    "    API_get_KO_tables(i)"
   ]
  },
  {
   "cell_type": "code",
   "execution_count": 39,
   "metadata": {},
   "outputs": [
    {
     "name": "stdout",
     "output_type": "stream",
     "text": [
      "mgm4755191.3 KO tables completed\n",
      "mgm4755184.3 KO tables completed\n",
      "mgm4755201.3 KO tables completed\n",
      "mgm4755185.3 KO tables completed\n",
      "mgm4755193.3 KO tables completed\n",
      "mgm4755194.3 KO tables completed\n",
      "mgm4755192.3 KO tables completed\n",
      "mgm4755218.3 KO tables completed\n",
      "mgm4755203.3 KO tables completed\n",
      "mgm4755212.3 KO tables completed\n",
      "mgm4755147.3 KO tables completed\n",
      "mgm4755139.3 KO tables completed\n",
      "mgm4755143.3 KO tables completed\n",
      "mgm4755137.3 KO tables completed\n",
      "mgm4755131.3 KO tables completed\n",
      "mgm4755140.3 KO tables completed\n",
      "mgm4755133.3 KO tables completed\n",
      "mgm4755141.3 KO tables completed\n",
      "mgm4755127.3 KO tables completed\n",
      "mgm4755138.3 KO tables completed\n",
      "mgm4755134.3 KO tables completed\n",
      "mgm4755129.3 KO tables completed\n",
      "mgm4755132.3 KO tables completed\n",
      "mgm4755158.3 KO tables completed\n",
      "mgm4755142.3 KO tables completed\n",
      "mgm4755152.3 KO tables completed\n",
      "mgm4755153.3 KO tables completed\n",
      "mgm4755126.3 KO tables completed\n",
      "mgm4755148.3 KO tables completed\n",
      "mgm4755156.3 KO tables completed\n",
      "mgm4755128.3 KO tables completed\n",
      "mgm4755130.3 KO tables completed\n"
     ]
    },
    {
     "ename": "KeyError",
     "evalue": "'data'",
     "output_type": "error",
     "traceback": [
      "\u001b[0;31m---------------------------------------------------------------------------\u001b[0m",
      "\u001b[0;31mKeyError\u001b[0m                                  Traceback (most recent call last)",
      "\u001b[0;32m<ipython-input-39-417d9338c20c>\u001b[0m in \u001b[0;36m<module>\u001b[0;34m()\u001b[0m\n\u001b[1;32m      1\u001b[0m \u001b[0;32mfor\u001b[0m \u001b[0mi\u001b[0m \u001b[0;32min\u001b[0m \u001b[0ml_2\u001b[0m\u001b[0;34m:\u001b[0m\u001b[0;34m\u001b[0m\u001b[0m\n\u001b[0;32m----> 2\u001b[0;31m     \u001b[0mAPI_get_KO_tables\u001b[0m\u001b[0;34m(\u001b[0m\u001b[0mi\u001b[0m\u001b[0;34m)\u001b[0m\u001b[0;34m\u001b[0m\u001b[0m\n\u001b[0m",
      "\u001b[0;32m<ipython-input-24-aa79db3da618>\u001b[0m in \u001b[0;36mAPI_get_KO_tables\u001b[0;34m(file)\u001b[0m\n\u001b[1;32m     21\u001b[0m     \u001b[0;31m### Parse JSON\u001b[0m\u001b[0;34m\u001b[0m\u001b[0;34m\u001b[0m\u001b[0m\n\u001b[1;32m     22\u001b[0m     \u001b[0;31m# Get data from 3rd nested JSON layer\u001b[0m\u001b[0;34m\u001b[0m\u001b[0;34m\u001b[0m\u001b[0m\n\u001b[0;32m---> 23\u001b[0;31m     \u001b[0mdata\u001b[0m\u001b[0;34m[\u001b[0m\u001b[0;34m'data'\u001b[0m\u001b[0;34m]\u001b[0m                       \u001b[0;31m# 1st layer\u001b[0m\u001b[0;34m\u001b[0m\u001b[0m\n\u001b[0m\u001b[1;32m     24\u001b[0m     \u001b[0mdat2\u001b[0m\u001b[0;34m=\u001b[0m\u001b[0mdata\u001b[0m\u001b[0;34m[\u001b[0m\u001b[0;34m'data'\u001b[0m\u001b[0;34m]\u001b[0m                  \u001b[0;31m# 2nd layer\u001b[0m\u001b[0;34m\u001b[0m\u001b[0m\n\u001b[1;32m     25\u001b[0m     \u001b[0mdat3\u001b[0m\u001b[0;34m=\u001b[0m\u001b[0mdat2\u001b[0m\u001b[0;34m[\u001b[0m\u001b[0;34m'data'\u001b[0m\u001b[0;34m]\u001b[0m                  \u001b[0;31m# 3rd layer\u001b[0m\u001b[0;34m\u001b[0m\u001b[0m\n",
      "\u001b[0;31mKeyError\u001b[0m: 'data'"
     ]
    }
   ],
   "source": [
    "for i in l_2:\n",
    "    API_get_KO_tables(i)"
   ]
  },
  {
   "cell_type": "code",
   "execution_count": 19,
   "metadata": {},
   "outputs": [
    {
     "data": {
      "text/plain": [
       "['mgm4755128.3', 'mgm4755130.3', 'mgm4758871.3']"
      ]
     },
     "execution_count": 19,
     "metadata": {},
     "output_type": "execute_result"
    }
   ],
   "source": [
    "l_2[30:34]\n",
    "# only last one of l_2 dropped, re-run..."
   ]
  },
  {
   "cell_type": "code",
   "execution_count": 20,
   "metadata": {},
   "outputs": [
    {
     "name": "stdout",
     "output_type": "stream",
     "text": [
      "mgm4758871.3 KO tables completed\n"
     ]
    }
   ],
   "source": [
    "API_get_KO_tables(\"mgm4758871.3\")  # -- PROBLEM was AUTH, need to release samples, but first fix metadata"
   ]
  },
  {
   "cell_type": "code",
   "execution_count": 21,
   "metadata": {},
   "outputs": [
    {
     "name": "stdout",
     "output_type": "stream",
     "text": [
      "mgm4758870.3 KO tables completed\n",
      "mgm4758844.3 KO tables completed\n",
      "mgm4758847.3 KO tables completed\n",
      "mgm4758852.3 KO tables completed\n",
      "mgm4758863.3 KO tables completed\n",
      "mgm4758856.3 KO tables completed\n",
      "mgm4758842.3 KO tables completed\n",
      "mgm4758862.3 KO tables completed\n",
      "mgm4758840.3 KO tables completed\n",
      "mgm4758865.3 KO tables completed\n",
      "mgm4758838.3 KO tables completed\n",
      "mgm4758846.3 KO tables completed\n",
      "mgm4758845.3 KO tables completed\n",
      "mgm4758866.3 KO tables completed\n",
      "mgm4758849.3 KO tables completed\n",
      "mgm4758841.3 KO tables completed\n",
      "mgm4758859.3 KO tables completed\n",
      "mgm4758843.3 KO tables completed\n",
      "mgm4758867.3 KO tables completed\n",
      "mgm4758861.3 KO tables completed\n",
      "mgm4758860.3 KO tables completed\n",
      "mgm4758868.3 KO tables completed\n",
      "mgm4758848.3 KO tables completed\n",
      "mgm4758850.3 KO tables completed\n",
      "mgm4758853.3 KO tables completed\n",
      "mgm4758864.3 KO tables completed\n",
      "mgm4758858.3 KO tables completed\n",
      "mgm4758869.3 KO tables completed\n",
      "mgm4758857.3 KO tables completed\n",
      "mgm4758839.3 KO tables completed\n",
      "mgm4758837.3 KO tables completed\n",
      "mgm4758854.3 KO tables completed\n",
      "mgm4758855.3 KO tables completed\n"
     ]
    }
   ],
   "source": [
    "for i in l_3:\n",
    "    API_get_KO_tables(i)"
   ]
  },
  {
   "cell_type": "markdown",
   "metadata": {},
   "source": [
    "##  Combine KO count tables using reduce (merge all by KO)"
   ]
  },
  {
   "cell_type": "code",
   "execution_count": 22,
   "metadata": {},
   "outputs": [
    {
     "data": {
      "text/plain": [
       "(6277, 133)"
      ]
     },
     "execution_count": 22,
     "metadata": {},
     "output_type": "execute_result"
    }
   ],
   "source": [
    "# Use separate KO table API outputs in current directory\n",
    "import glob\n",
    "import pandas as pd\n",
    "from functools import reduce  # Python 3 only\n",
    "import csv  # to write our data to a CSV\n",
    "\n",
    "\n",
    "#### 1) Make list of data\n",
    "# Get all KO files, add path if needed\n",
    "allFiles = glob.glob(\"*KO.txt\")  # allFiles\n",
    "\n",
    "# Read allFiles as csv and make list of dataframes:\n",
    "frame = pd.DataFrame()\n",
    "list_ = []\n",
    "\n",
    "for file_ in allFiles:\n",
    "    df = pd.read_csv(file_,index_col=None, header=0, sep='\\t')\n",
    "    list_.append(df) \n",
    "list_\n",
    "\n",
    "\n",
    "#### 2) Reduce data in list\n",
    "# Reduce data (merge all), make DF and fill NAs\n",
    "def big_merge(df1, df2):\n",
    "    return pd.merge(df1, df2, how='outer')\n",
    "\n",
    "merged_dfs = reduce(big_merge, list_)  # REDUCE \n",
    "out=pd.DataFrame(merged_dfs)           # As DF  \n",
    "out.fillna(value=0, inplace = True)    # NA = 0 "
   ]
  },
  {
   "cell_type": "code",
   "execution_count": 26,
   "metadata": {
    "collapsed": true
   },
   "outputs": [],
   "source": [
    "# out.head() # out.shape"
   ]
  },
  {
   "cell_type": "code",
   "execution_count": 99,
   "metadata": {
    "collapsed": true
   },
   "outputs": [],
   "source": [
    "### 3) Rename samples, format DF and sort for export\n",
    "# Transpose and merge with SPIDs from ID mapping file\n",
    "outT=out.T\n",
    "outT.columns=outT.iloc[0]  # rename cols\n",
    "outT=outT[1:]              # drop first row\n",
    "outT['mgID']=outT.index    # MG ID as column\n",
    "\n",
    "# Merge this with sample list to get OIDs \n",
    "outMt = pd.merge(samples, outT, on='mgID', how='outer')\n",
    "\n",
    "# Merge with OID to sample name map, sort Site EW, hydrology (low to high)\n",
    "OutMt = pd.merge(sampnamesSPID, outMt, on='SPID', how='right')\n",
    "OutMt.drop(['SPID','Alpha_Index','Index_EW_ d1_d2', 'Ind_site_EW','mgID'], axis=1, inplace=True)         # drop extra columns        # OutMt.head(10)    # OutMt.shape\n",
    "OutMt_sort = OutMt.sort_values(['Indx_Site_hyd_EW'])#, inplace=True)              # SORT samples by EW index  \n",
    "# OutMt_sort.head() # OutMt_sort.shape\n",
    "\n",
    "# Reformat before transpose to KO as row\n",
    "OutMt_sort.set_index(['Sample'], drop = True, inplace = True)\n",
    "OutMt_sort.drop(['Indx_Site_hyd_EW'], axis=1, inplace=True)         # drop extra columns # OutMt_sort=OutMt_sort.iloc[:,2:]      # drop KO and mgID columns\n",
    "OutMt_sort.index.names = ['KO']  # rename index\n",
    "OutMt_sort.head(10)\n",
    "\n",
    "## retranspose \n",
    "OutM_sort = OutMt_sort.T\n",
    "#OutM_sort.head(10) #OutM_sort.columns #OutM_sort.tail(50) #OutM.shape #OutMt.head()"
   ]
  },
  {
   "cell_type": "code",
   "execution_count": 100,
   "metadata": {
    "collapsed": true
   },
   "outputs": [],
   "source": [
    "# Filter table to minimum number of reads, here 200\n",
    "OutM_sort['KOsum'] = OutM_sort.sum(axis=1)                # Get sum of KOs\n",
    "OutM_sort_f200 = OutM_sort[OutM_sort.KOsum > 200]         # Filter KO table by min number            # OutM_sort_f200.shape\n",
    "OutM_sort_F200 = OutM_sort_f200.drop(['KOsum'],axis=1)    # Drop KOsum col, inplace throws py error  # , inplace=True)  # OutM_sort_f200.head()"
   ]
  },
  {
   "cell_type": "markdown",
   "metadata": {},
   "source": [
    "### Export combined KO abundance table(s) for all samples"
   ]
  },
  {
   "cell_type": "code",
   "execution_count": 102,
   "metadata": {
    "collapsed": true
   },
   "outputs": [],
   "source": [
    "# Write table, incl. rownames\n",
    "OutM_sort.to_csv(\"MG_RAST_KO_counts133_revised.txt\", sep=\"\\t\", index=True, quoting=csv.QUOTE_NONE)\n",
    "OutMt_sort.to_csv(\"MG_RAST_KO_counts133_revisedTRSNP.txt\", sep=\"\\t\", index=True, quoting=csv.QUOTE_NONE)\n",
    "OutM_sort_F200.to_csv(\"MG_RAST_KO_counts133_revisedF200.txt\", sep=\"\\t\", index=True, quoting=csv.QUOTE_NONE)"
   ]
  },
  {
   "cell_type": "markdown",
   "metadata": {},
   "source": [
    "### Cleanup files "
   ]
  },
  {
   "cell_type": "code",
   "execution_count": 103,
   "metadata": {
    "collapsed": true
   },
   "outputs": [],
   "source": [
    "! mkdir KO_counts_sample_txt           # Makes new directory\n",
    "! mv *KO.txt KO_counts_sample_txt/     # Moves all KO.txt to new directory "
   ]
  },
  {
   "cell_type": "markdown",
   "metadata": {},
   "source": [
    "## Combine KO - count MD5 tables "
   ]
  },
  {
   "cell_type": "code",
   "execution_count": 116,
   "metadata": {
    "collapsed": true
   },
   "outputs": [],
   "source": [
    "# Assumes API separate KO table outputs in current directory\n",
    "import glob\n",
    "import pandas as pd\n",
    "from functools import reduce  # Python 3 only\n",
    "import csv  # to write our data to a CSV\n",
    "\n",
    "\n",
    "#### 1) Make list of data\n",
    "# Get all KO files, add path if needed\n",
    "allFiles_md5 = glob.glob(\"*KOmd5.txt\")  # allFiles\n",
    "\n",
    "# Read allFiles as csv and make list of dataframes:\n",
    "frame = pd.DataFrame()\n",
    "list_ = []\n",
    "\n",
    "for file_ in allFiles_md5:\n",
    "    df = pd.read_csv(file_,index_col=None, header=0, sep='\\t')\n",
    "    list_.append(df) \n",
    "#list_"
   ]
  },
  {
   "cell_type": "code",
   "execution_count": null,
   "metadata": {
    "collapsed": true
   },
   "outputs": [],
   "source": [
    "### 2) Concatenate tables in list\n",
    "KOmd5_cts_all = pd.concat(list_, axis=0, ignore_index = True)  # could reduce, or append?"
   ]
  },
  {
   "cell_type": "code",
   "execution_count": 124,
   "metadata": {},
   "outputs": [
    {
     "data": {
      "text/plain": [
       "(72150157, 5)"
      ]
     },
     "execution_count": 124,
     "metadata": {},
     "output_type": "execute_result"
    }
   ],
   "source": [
    "KOmd5_cts_all.shape #KOmd5_cts_all.head() # KOmd5_cts_all.tail()"
   ]
  },
  {
   "cell_type": "code",
   "execution_count": 131,
   "metadata": {
    "collapsed": true
   },
   "outputs": [],
   "source": [
    "### Remap sample IDs from MGID to sample name \n",
    "# Join KO-md5 counts/Sample with Sample name mapping, using MGID and OIDs (here 'samples', 'samplenameSPID') \n",
    "samples.columns = ['SPID','MGID']                                                       # Rename mgID col to MGID to match md5 file... # samples.head()\n",
    "KOmd5_ctS_all = pd.merge(samples, KOmd5_cts_all, on='MGID', how='outer')                # Merge w/ sample list -> OIDs \n",
    "KOmd5_cts_all_samps = pd.merge(sampnamesSPID, KOmd5_ctS_all, on='SPID', how='right')    # Merge w/ OID to sample name map, sort Site EW, hydrology (low to high)      # KOmd5_cts_all_samps.head()\n",
    "\n",
    "# Drop extra columns \n",
    "KOmd5_cts_all_samps.drop(['SPID','Alpha_Index','Index_EW_ d1_d2','Indx_Site_hyd_EW','Ind_site_EW','MGID','Unnamed: 0'], axis=1, inplace=True)         # drop extra columns        # OutMt.head(10)    # OutMt.shape\n",
    "#KOmd5_cts_all_samps.head()"
   ]
  },
  {
   "cell_type": "code",
   "execution_count": 137,
   "metadata": {},
   "outputs": [
    {
     "data": {
      "text/html": [
       "<div>\n",
       "<style>\n",
       "    .dataframe thead tr:only-child th {\n",
       "        text-align: right;\n",
       "    }\n",
       "\n",
       "    .dataframe thead th {\n",
       "        text-align: left;\n",
       "    }\n",
       "\n",
       "    .dataframe tbody tr th {\n",
       "        vertical-align: top;\n",
       "    }\n",
       "</style>\n",
       "<table border=\"1\" class=\"dataframe\">\n",
       "  <thead>\n",
       "    <tr style=\"text-align: right;\">\n",
       "      <th></th>\n",
       "      <th>Sample</th>\n",
       "      <th>KO</th>\n",
       "      <th>count</th>\n",
       "      <th>MD5</th>\n",
       "    </tr>\n",
       "  </thead>\n",
       "  <tbody>\n",
       "    <tr>\n",
       "      <th>0</th>\n",
       "      <td>Sandmound_TuleA_D1</td>\n",
       "      <td>K00566</td>\n",
       "      <td>2</td>\n",
       "      <td>00001508eba3f78863a4f9cb2463810d</td>\n",
       "    </tr>\n",
       "    <tr>\n",
       "      <th>1</th>\n",
       "      <td>Sandmound_TuleA_D1</td>\n",
       "      <td>K01687</td>\n",
       "      <td>2</td>\n",
       "      <td>00001a757949ba4df5f1a9f8f6ba6c09</td>\n",
       "    </tr>\n",
       "    <tr>\n",
       "      <th>2</th>\n",
       "      <td>Sandmound_TuleA_D1</td>\n",
       "      <td>K03688</td>\n",
       "      <td>37</td>\n",
       "      <td>00001aba8aee0c90a80969ea8da059f8</td>\n",
       "    </tr>\n",
       "    <tr>\n",
       "      <th>3</th>\n",
       "      <td>Sandmound_TuleA_D1</td>\n",
       "      <td>K02013</td>\n",
       "      <td>4</td>\n",
       "      <td>00002ee0efb6f4ef77f1a53bbeb207d0</td>\n",
       "    </tr>\n",
       "    <tr>\n",
       "      <th>4</th>\n",
       "      <td>Sandmound_TuleA_D1</td>\n",
       "      <td>K00066</td>\n",
       "      <td>43</td>\n",
       "      <td>00003a8575ab2461c908a808ffe2002a</td>\n",
       "    </tr>\n",
       "  </tbody>\n",
       "</table>\n",
       "</div>"
      ],
      "text/plain": [
       "               Sample      KO  count                               MD5\n",
       "0  Sandmound_TuleA_D1  K00566      2  00001508eba3f78863a4f9cb2463810d\n",
       "1  Sandmound_TuleA_D1  K01687      2  00001a757949ba4df5f1a9f8f6ba6c09\n",
       "2  Sandmound_TuleA_D1  K03688     37  00001aba8aee0c90a80969ea8da059f8\n",
       "3  Sandmound_TuleA_D1  K02013      4  00002ee0efb6f4ef77f1a53bbeb207d0\n",
       "4  Sandmound_TuleA_D1  K00066     43  00003a8575ab2461c908a808ffe2002a"
      ]
     },
     "execution_count": 137,
     "metadata": {},
     "output_type": "execute_result"
    }
   ],
   "source": [
    "KOmd5_cts_all_samps.head() # KOmd5_cts_all_samps.tail() # KOmd5_cts_all_samps.shape"
   ]
  },
  {
   "cell_type": "markdown",
   "metadata": {},
   "source": [
    "### Export KO-md5 count table combined for all samples"
   ]
  },
  {
   "cell_type": "code",
   "execution_count": 138,
   "metadata": {
    "collapsed": true
   },
   "outputs": [],
   "source": [
    "KOmd5_cts_all_samps.to_csv(\"MG_RAST_KO_md5_counts_133.txt\", sep=\"\\t\", index=False, quoting=csv.QUOTE_NONE)"
   ]
  },
  {
   "cell_type": "markdown",
   "metadata": {},
   "source": [
    "## Cleanup individual files"
   ]
  },
  {
   "cell_type": "code",
   "execution_count": null,
   "metadata": {
    "collapsed": true
   },
   "outputs": [],
   "source": [
    "! mkdir KOmd5_counts_sample_txt           # Makes new directory\n",
    "! mv *KOmd5.txt KOmd5_counts_sample_txt/     # Moves all KO.txt to new directory "
   ]
  },
  {
   "cell_type": "markdown",
   "metadata": {},
   "source": [
    "## Reformat / reduce file dimensions \n",
    "4.5 GB might be a bit big for this file, can rearrange or reformat while in memory?\n"
   ]
  },
  {
   "cell_type": "code",
   "execution_count": 144,
   "metadata": {},
   "outputs": [
    {
     "data": {
      "text/html": [
       "<div>\n",
       "<style>\n",
       "    .dataframe thead tr:only-child th {\n",
       "        text-align: right;\n",
       "    }\n",
       "\n",
       "    .dataframe thead th {\n",
       "        text-align: left;\n",
       "    }\n",
       "\n",
       "    .dataframe tbody tr th {\n",
       "        vertical-align: top;\n",
       "    }\n",
       "</style>\n",
       "<table border=\"1\" class=\"dataframe\">\n",
       "  <thead>\n",
       "    <tr style=\"text-align: right;\">\n",
       "      <th></th>\n",
       "      <th>KO</th>\n",
       "      <th>MD5</th>\n",
       "    </tr>\n",
       "  </thead>\n",
       "  <tbody>\n",
       "    <tr>\n",
       "      <th>0</th>\n",
       "      <td>K00566</td>\n",
       "      <td>00001508eba3f78863a4f9cb2463810d</td>\n",
       "    </tr>\n",
       "    <tr>\n",
       "      <th>1</th>\n",
       "      <td>K01687</td>\n",
       "      <td>00001a757949ba4df5f1a9f8f6ba6c09</td>\n",
       "    </tr>\n",
       "    <tr>\n",
       "      <th>2</th>\n",
       "      <td>K03688</td>\n",
       "      <td>00001aba8aee0c90a80969ea8da059f8</td>\n",
       "    </tr>\n",
       "    <tr>\n",
       "      <th>3</th>\n",
       "      <td>K02013</td>\n",
       "      <td>00002ee0efb6f4ef77f1a53bbeb207d0</td>\n",
       "    </tr>\n",
       "    <tr>\n",
       "      <th>4</th>\n",
       "      <td>K00066</td>\n",
       "      <td>00003a8575ab2461c908a808ffe2002a</td>\n",
       "    </tr>\n",
       "  </tbody>\n",
       "</table>\n",
       "</div>"
      ],
      "text/plain": [
       "       KO                               MD5\n",
       "0  K00566  00001508eba3f78863a4f9cb2463810d\n",
       "1  K01687  00001a757949ba4df5f1a9f8f6ba6c09\n",
       "2  K03688  00001aba8aee0c90a80969ea8da059f8\n",
       "3  K02013  00002ee0efb6f4ef77f1a53bbeb207d0\n",
       "4  K00066  00003a8575ab2461c908a808ffe2002a"
      ]
     },
     "execution_count": 144,
     "metadata": {},
     "output_type": "execute_result"
    }
   ],
   "source": [
    "# Unique KO-md5 combinations:\n",
    "keep = ['KO','MD5']\n",
    "KO_md5 = KOmd5_cts_all_samps[keep]          # Keep only KO, MD5            # KO_md5.head() # KO_md5.shape\n",
    "KO_md5_unique_133sal = KO_md5.drop_duplicates() # get unique mappings of KO, MD5\n",
    "KO_md5_unique_133sal.head() #KO_md5_unique_133sal.shape\n",
    "\n",
    "# Export unique combinations\n",
    "KO_md5_unique_133sal.to_csv(\"MG_RAST_KO_x_md5_unique_133.txt\", sep=\"\\t\", index=False, quoting=csv.QUOTE_NONE)"
   ]
  },
  {
   "cell_type": "code",
   "execution_count": null,
   "metadata": {
    "collapsed": true
   },
   "outputs": [],
   "source": []
  },
  {
   "cell_type": "code",
   "execution_count": null,
   "metadata": {
    "collapsed": true
   },
   "outputs": [],
   "source": []
  },
  {
   "cell_type": "markdown",
   "metadata": {},
   "source": [
    "## REFORMAT 4.5 GB table\n",
    "SLOW steps below on 4.5 GB file, separate"
   ]
  },
  {
   "cell_type": "code",
   "execution_count": 159,
   "metadata": {
    "collapsed": true
   },
   "outputs": [],
   "source": [
    "# Make WIDE table of md5-KO counts per sample                                                                 # Pivot long to wide data on KO-md5 to get counts / sample\n",
    "md5_sample_count_DB = KOmd5_cts_all_samps.pivot_table(index=['MD5','KO'], columns='Sample', values='count')  \n",
    "# md5_sample_count_DB.head()"
   ]
  },
  {
   "cell_type": "code",
   "execution_count": 161,
   "metadata": {},
   "outputs": [
    {
     "data": {
      "text/html": [
       "<div>\n",
       "<style>\n",
       "    .dataframe thead tr:only-child th {\n",
       "        text-align: right;\n",
       "    }\n",
       "\n",
       "    .dataframe thead th {\n",
       "        text-align: left;\n",
       "    }\n",
       "\n",
       "    .dataframe tbody tr th {\n",
       "        vertical-align: top;\n",
       "    }\n",
       "</style>\n",
       "<table border=\"1\" class=\"dataframe\">\n",
       "  <thead>\n",
       "    <tr style=\"text-align: right;\">\n",
       "      <th></th>\n",
       "      <th>Sample</th>\n",
       "      <th>Browns_ThreeSqA_D1</th>\n",
       "      <th>Browns_ThreeSqA_D2</th>\n",
       "      <th>Browns_ThreeSqB_D1</th>\n",
       "      <th>Browns_ThreeSqB_D2</th>\n",
       "      <th>Browns_ThreeSqC_D1</th>\n",
       "      <th>Browns_ThreeSqC_D2</th>\n",
       "      <th>Browns_TuleA_D1</th>\n",
       "      <th>Browns_TuleA_D2</th>\n",
       "      <th>Browns_TuleB_D1</th>\n",
       "      <th>Browns_TuleB_D2</th>\n",
       "      <th>...</th>\n",
       "      <th>WestPond_TuleC_D1</th>\n",
       "      <th>WestPond_TuleC_D2</th>\n",
       "      <th>White_CordA_D2</th>\n",
       "      <th>White_CordB_D2</th>\n",
       "      <th>White_ThreeSqA_D1</th>\n",
       "      <th>White_ThreeSqA_D2</th>\n",
       "      <th>White_ThreeSqB_D1</th>\n",
       "      <th>White_ThreeSqB_D2</th>\n",
       "      <th>White_ThreeSqC_D1</th>\n",
       "      <th>White_ThreeSqC_D2</th>\n",
       "    </tr>\n",
       "    <tr>\n",
       "      <th>MD5</th>\n",
       "      <th>KO</th>\n",
       "      <th></th>\n",
       "      <th></th>\n",
       "      <th></th>\n",
       "      <th></th>\n",
       "      <th></th>\n",
       "      <th></th>\n",
       "      <th></th>\n",
       "      <th></th>\n",
       "      <th></th>\n",
       "      <th></th>\n",
       "      <th></th>\n",
       "      <th></th>\n",
       "      <th></th>\n",
       "      <th></th>\n",
       "      <th></th>\n",
       "      <th></th>\n",
       "      <th></th>\n",
       "      <th></th>\n",
       "      <th></th>\n",
       "      <th></th>\n",
       "      <th></th>\n",
       "    </tr>\n",
       "  </thead>\n",
       "  <tbody>\n",
       "    <tr>\n",
       "      <th>00001508eba3f78863a4f9cb2463810d</th>\n",
       "      <th>K00566</th>\n",
       "      <td>4.0</td>\n",
       "      <td>1.0</td>\n",
       "      <td>3.0</td>\n",
       "      <td>2.0</td>\n",
       "      <td>3.0</td>\n",
       "      <td>1.0</td>\n",
       "      <td>0.0</td>\n",
       "      <td>0.0</td>\n",
       "      <td>8.0</td>\n",
       "      <td>1.0</td>\n",
       "      <td>...</td>\n",
       "      <td>3.0</td>\n",
       "      <td>2.0</td>\n",
       "      <td>0.0</td>\n",
       "      <td>1.0</td>\n",
       "      <td>1.0</td>\n",
       "      <td>1.0</td>\n",
       "      <td>2.0</td>\n",
       "      <td>1.0</td>\n",
       "      <td>0.0</td>\n",
       "      <td>1.0</td>\n",
       "    </tr>\n",
       "    <tr>\n",
       "      <th>00001a757949ba4df5f1a9f8f6ba6c09</th>\n",
       "      <th>K01687</th>\n",
       "      <td>2.0</td>\n",
       "      <td>4.0</td>\n",
       "      <td>0.0</td>\n",
       "      <td>3.0</td>\n",
       "      <td>3.0</td>\n",
       "      <td>2.0</td>\n",
       "      <td>0.0</td>\n",
       "      <td>1.0</td>\n",
       "      <td>0.0</td>\n",
       "      <td>1.0</td>\n",
       "      <td>...</td>\n",
       "      <td>3.0</td>\n",
       "      <td>5.0</td>\n",
       "      <td>10.0</td>\n",
       "      <td>9.0</td>\n",
       "      <td>1.0</td>\n",
       "      <td>1.0</td>\n",
       "      <td>3.0</td>\n",
       "      <td>6.0</td>\n",
       "      <td>1.0</td>\n",
       "      <td>1.0</td>\n",
       "    </tr>\n",
       "    <tr>\n",
       "      <th>00001aba8aee0c90a80969ea8da059f8</th>\n",
       "      <th>K03688</th>\n",
       "      <td>28.0</td>\n",
       "      <td>13.0</td>\n",
       "      <td>16.0</td>\n",
       "      <td>6.0</td>\n",
       "      <td>19.0</td>\n",
       "      <td>7.0</td>\n",
       "      <td>11.0</td>\n",
       "      <td>19.0</td>\n",
       "      <td>9.0</td>\n",
       "      <td>20.0</td>\n",
       "      <td>...</td>\n",
       "      <td>14.0</td>\n",
       "      <td>4.0</td>\n",
       "      <td>21.0</td>\n",
       "      <td>34.0</td>\n",
       "      <td>12.0</td>\n",
       "      <td>19.0</td>\n",
       "      <td>5.0</td>\n",
       "      <td>36.0</td>\n",
       "      <td>54.0</td>\n",
       "      <td>22.0</td>\n",
       "    </tr>\n",
       "    <tr>\n",
       "      <th>00002ee0efb6f4ef77f1a53bbeb207d0</th>\n",
       "      <th>K02013</th>\n",
       "      <td>2.0</td>\n",
       "      <td>1.0</td>\n",
       "      <td>8.0</td>\n",
       "      <td>3.0</td>\n",
       "      <td>4.0</td>\n",
       "      <td>2.0</td>\n",
       "      <td>3.0</td>\n",
       "      <td>4.0</td>\n",
       "      <td>0.0</td>\n",
       "      <td>4.0</td>\n",
       "      <td>...</td>\n",
       "      <td>6.0</td>\n",
       "      <td>3.0</td>\n",
       "      <td>1.0</td>\n",
       "      <td>3.0</td>\n",
       "      <td>1.0</td>\n",
       "      <td>2.0</td>\n",
       "      <td>2.0</td>\n",
       "      <td>3.0</td>\n",
       "      <td>1.0</td>\n",
       "      <td>2.0</td>\n",
       "    </tr>\n",
       "    <tr>\n",
       "      <th>00003a8575ab2461c908a808ffe2002a</th>\n",
       "      <th>K00066</th>\n",
       "      <td>33.0</td>\n",
       "      <td>31.0</td>\n",
       "      <td>39.0</td>\n",
       "      <td>22.0</td>\n",
       "      <td>43.0</td>\n",
       "      <td>28.0</td>\n",
       "      <td>30.0</td>\n",
       "      <td>29.0</td>\n",
       "      <td>54.0</td>\n",
       "      <td>42.0</td>\n",
       "      <td>...</td>\n",
       "      <td>28.0</td>\n",
       "      <td>15.0</td>\n",
       "      <td>19.0</td>\n",
       "      <td>15.0</td>\n",
       "      <td>27.0</td>\n",
       "      <td>33.0</td>\n",
       "      <td>24.0</td>\n",
       "      <td>18.0</td>\n",
       "      <td>14.0</td>\n",
       "      <td>33.0</td>\n",
       "    </tr>\n",
       "  </tbody>\n",
       "</table>\n",
       "<p>5 rows × 133 columns</p>\n",
       "</div>"
      ],
      "text/plain": [
       "Sample                                   Browns_ThreeSqA_D1  \\\n",
       "MD5                              KO                           \n",
       "00001508eba3f78863a4f9cb2463810d K00566                 4.0   \n",
       "00001a757949ba4df5f1a9f8f6ba6c09 K01687                 2.0   \n",
       "00001aba8aee0c90a80969ea8da059f8 K03688                28.0   \n",
       "00002ee0efb6f4ef77f1a53bbeb207d0 K02013                 2.0   \n",
       "00003a8575ab2461c908a808ffe2002a K00066                33.0   \n",
       "\n",
       "Sample                                   Browns_ThreeSqA_D2  \\\n",
       "MD5                              KO                           \n",
       "00001508eba3f78863a4f9cb2463810d K00566                 1.0   \n",
       "00001a757949ba4df5f1a9f8f6ba6c09 K01687                 4.0   \n",
       "00001aba8aee0c90a80969ea8da059f8 K03688                13.0   \n",
       "00002ee0efb6f4ef77f1a53bbeb207d0 K02013                 1.0   \n",
       "00003a8575ab2461c908a808ffe2002a K00066                31.0   \n",
       "\n",
       "Sample                                   Browns_ThreeSqB_D1  \\\n",
       "MD5                              KO                           \n",
       "00001508eba3f78863a4f9cb2463810d K00566                 3.0   \n",
       "00001a757949ba4df5f1a9f8f6ba6c09 K01687                 0.0   \n",
       "00001aba8aee0c90a80969ea8da059f8 K03688                16.0   \n",
       "00002ee0efb6f4ef77f1a53bbeb207d0 K02013                 8.0   \n",
       "00003a8575ab2461c908a808ffe2002a K00066                39.0   \n",
       "\n",
       "Sample                                   Browns_ThreeSqB_D2  \\\n",
       "MD5                              KO                           \n",
       "00001508eba3f78863a4f9cb2463810d K00566                 2.0   \n",
       "00001a757949ba4df5f1a9f8f6ba6c09 K01687                 3.0   \n",
       "00001aba8aee0c90a80969ea8da059f8 K03688                 6.0   \n",
       "00002ee0efb6f4ef77f1a53bbeb207d0 K02013                 3.0   \n",
       "00003a8575ab2461c908a808ffe2002a K00066                22.0   \n",
       "\n",
       "Sample                                   Browns_ThreeSqC_D1  \\\n",
       "MD5                              KO                           \n",
       "00001508eba3f78863a4f9cb2463810d K00566                 3.0   \n",
       "00001a757949ba4df5f1a9f8f6ba6c09 K01687                 3.0   \n",
       "00001aba8aee0c90a80969ea8da059f8 K03688                19.0   \n",
       "00002ee0efb6f4ef77f1a53bbeb207d0 K02013                 4.0   \n",
       "00003a8575ab2461c908a808ffe2002a K00066                43.0   \n",
       "\n",
       "Sample                                   Browns_ThreeSqC_D2  Browns_TuleA_D1  \\\n",
       "MD5                              KO                                            \n",
       "00001508eba3f78863a4f9cb2463810d K00566                 1.0              0.0   \n",
       "00001a757949ba4df5f1a9f8f6ba6c09 K01687                 2.0              0.0   \n",
       "00001aba8aee0c90a80969ea8da059f8 K03688                 7.0             11.0   \n",
       "00002ee0efb6f4ef77f1a53bbeb207d0 K02013                 2.0              3.0   \n",
       "00003a8575ab2461c908a808ffe2002a K00066                28.0             30.0   \n",
       "\n",
       "Sample                                   Browns_TuleA_D2  Browns_TuleB_D1  \\\n",
       "MD5                              KO                                         \n",
       "00001508eba3f78863a4f9cb2463810d K00566              0.0              8.0   \n",
       "00001a757949ba4df5f1a9f8f6ba6c09 K01687              1.0              0.0   \n",
       "00001aba8aee0c90a80969ea8da059f8 K03688             19.0              9.0   \n",
       "00002ee0efb6f4ef77f1a53bbeb207d0 K02013              4.0              0.0   \n",
       "00003a8575ab2461c908a808ffe2002a K00066             29.0             54.0   \n",
       "\n",
       "Sample                                   Browns_TuleB_D2        ...          \\\n",
       "MD5                              KO                             ...           \n",
       "00001508eba3f78863a4f9cb2463810d K00566              1.0        ...           \n",
       "00001a757949ba4df5f1a9f8f6ba6c09 K01687              1.0        ...           \n",
       "00001aba8aee0c90a80969ea8da059f8 K03688             20.0        ...           \n",
       "00002ee0efb6f4ef77f1a53bbeb207d0 K02013              4.0        ...           \n",
       "00003a8575ab2461c908a808ffe2002a K00066             42.0        ...           \n",
       "\n",
       "Sample                                   WestPond_TuleC_D1  WestPond_TuleC_D2  \\\n",
       "MD5                              KO                                             \n",
       "00001508eba3f78863a4f9cb2463810d K00566                3.0                2.0   \n",
       "00001a757949ba4df5f1a9f8f6ba6c09 K01687                3.0                5.0   \n",
       "00001aba8aee0c90a80969ea8da059f8 K03688               14.0                4.0   \n",
       "00002ee0efb6f4ef77f1a53bbeb207d0 K02013                6.0                3.0   \n",
       "00003a8575ab2461c908a808ffe2002a K00066               28.0               15.0   \n",
       "\n",
       "Sample                                   White_CordA_D2  White_CordB_D2  \\\n",
       "MD5                              KO                                       \n",
       "00001508eba3f78863a4f9cb2463810d K00566             0.0             1.0   \n",
       "00001a757949ba4df5f1a9f8f6ba6c09 K01687            10.0             9.0   \n",
       "00001aba8aee0c90a80969ea8da059f8 K03688            21.0            34.0   \n",
       "00002ee0efb6f4ef77f1a53bbeb207d0 K02013             1.0             3.0   \n",
       "00003a8575ab2461c908a808ffe2002a K00066            19.0            15.0   \n",
       "\n",
       "Sample                                   White_ThreeSqA_D1  White_ThreeSqA_D2  \\\n",
       "MD5                              KO                                             \n",
       "00001508eba3f78863a4f9cb2463810d K00566                1.0                1.0   \n",
       "00001a757949ba4df5f1a9f8f6ba6c09 K01687                1.0                1.0   \n",
       "00001aba8aee0c90a80969ea8da059f8 K03688               12.0               19.0   \n",
       "00002ee0efb6f4ef77f1a53bbeb207d0 K02013                1.0                2.0   \n",
       "00003a8575ab2461c908a808ffe2002a K00066               27.0               33.0   \n",
       "\n",
       "Sample                                   White_ThreeSqB_D1  White_ThreeSqB_D2  \\\n",
       "MD5                              KO                                             \n",
       "00001508eba3f78863a4f9cb2463810d K00566                2.0                1.0   \n",
       "00001a757949ba4df5f1a9f8f6ba6c09 K01687                3.0                6.0   \n",
       "00001aba8aee0c90a80969ea8da059f8 K03688                5.0               36.0   \n",
       "00002ee0efb6f4ef77f1a53bbeb207d0 K02013                2.0                3.0   \n",
       "00003a8575ab2461c908a808ffe2002a K00066               24.0               18.0   \n",
       "\n",
       "Sample                                   White_ThreeSqC_D1  White_ThreeSqC_D2  \n",
       "MD5                              KO                                            \n",
       "00001508eba3f78863a4f9cb2463810d K00566                0.0                1.0  \n",
       "00001a757949ba4df5f1a9f8f6ba6c09 K01687                1.0                1.0  \n",
       "00001aba8aee0c90a80969ea8da059f8 K03688               54.0               22.0  \n",
       "00002ee0efb6f4ef77f1a53bbeb207d0 K02013                1.0                2.0  \n",
       "00003a8575ab2461c908a808ffe2002a K00066               14.0               33.0  \n",
       "\n",
       "[5 rows x 133 columns]"
      ]
     },
     "execution_count": 161,
     "metadata": {},
     "output_type": "execute_result"
    }
   ],
   "source": [
    "# Fill NAs with 0 s\n",
    "md5_sample_count_DB.fillna(0, inplace=True)\n",
    "md5_sample_count_DB.head()"
   ]
  },
  {
   "cell_type": "code",
   "execution_count": 176,
   "metadata": {},
   "outputs": [
    {
     "data": {
      "text/plain": [
       "(1014593, 133)"
      ]
     },
     "execution_count": 176,
     "metadata": {},
     "output_type": "execute_result"
    }
   ],
   "source": [
    "md5_sample_count_DB.shape"
   ]
  },
  {
   "cell_type": "code",
   "execution_count": 181,
   "metadata": {
    "collapsed": true
   },
   "outputs": [],
   "source": [
    "# Write the wide DB\n",
    "md5_sample_count_DB.to_csv(\"MG_RAST_md5_WIDE_sample_count_KO_DB_133.txt\", sep=\"\\t\", index=True, quoting=csv.QUOTE_NONE)"
   ]
  },
  {
   "cell_type": "code",
   "execution_count": 179,
   "metadata": {
    "collapsed": true
   },
   "outputs": [],
   "source": [
    "md5DB_head= md5_sample_count_DB.head()\n",
    "md5DB_head\n",
    "md5DB_head.to_csv(\"md5DB_head.txt\", sep=\"\\t\", index=True, quoting=csv.QUOTE_NONE)"
   ]
  },
  {
   "cell_type": "code",
   "execution_count": 171,
   "metadata": {
    "collapsed": true
   },
   "outputs": [],
   "source": [
    "### Get Separate md5 total counts / sample for later normalization...\n",
    "md5_totalcts_samp = md5_sample_count_DB.sum(axis=0)\n",
    "md5_Sample_total = pd.DataFrame(md5_totalcts_samp)\n",
    "md5_Sample_total.columns = ['md5_total_count'] \n",
    "# Export unique combinations\n",
    "md5_Sample_total.to_csv(\"MG_RAST_md5_Sample_total_133.txt\", sep=\"\\t\", index=True, quoting=csv.QUOTE_NONE)"
   ]
  },
  {
   "cell_type": "code",
   "execution_count": null,
   "metadata": {
    "collapsed": true
   },
   "outputs": [],
   "source": []
  },
  {
   "cell_type": "code",
   "execution_count": null,
   "metadata": {
    "collapsed": true
   },
   "outputs": [],
   "source": []
  },
  {
   "cell_type": "code",
   "execution_count": null,
   "metadata": {
    "collapsed": true
   },
   "outputs": [],
   "source": []
  },
  {
   "cell_type": "code",
   "execution_count": null,
   "metadata": {
    "collapsed": true
   },
   "outputs": [],
   "source": []
  }
 ],
 "metadata": {
  "kernelspec": {
   "display_name": "Python [Root]",
   "language": "python",
   "name": "Python [Root]"
  },
  "language_info": {
   "codemirror_mode": {
    "name": "ipython",
    "version": 3
   },
   "file_extension": ".py",
   "mimetype": "text/x-python",
   "name": "python",
   "nbconvert_exporter": "python",
   "pygments_lexer": "ipython3",
   "version": "3.5.2"
  }
 },
 "nbformat": 4,
 "nbformat_minor": 1
}
